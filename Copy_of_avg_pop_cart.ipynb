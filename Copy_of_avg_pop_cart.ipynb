{
  "nbformat": 4,
  "nbformat_minor": 0,
  "metadata": {
    "colab": {
      "name": "Copy of avg_pop_cart.ipynb",
      "provenance": [],
      "collapsed_sections": [],
      "include_colab_link": true
    },
    "kernelspec": {
      "name": "python3",
      "display_name": "Python 3"
    },
    "language_info": {
      "name": "python"
    }
  },
  "cells": [
    {
      "cell_type": "markdown",
      "metadata": {
        "id": "view-in-github",
        "colab_type": "text"
      },
      "source": [
        "<a href=\"https://colab.research.google.com/github/mtofighi/Test/blob/master/Copy_of_avg_pop_cart.ipynb\" target=\"_parent\"><img src=\"https://colab.research.google.com/assets/colab-badge.svg\" alt=\"Open In Colab\"/></a>"
      ]
    },
    {
      "cell_type": "code",
      "metadata": {
        "id": "ozy6-sdEm0EZ"
      },
      "source": [
        "import numpy as np\n",
        "import random as r\n",
        "import collections\n",
        "import matplotlib.pyplot as plt\n",
        "from scipy.spatial import distance\n",
        "\n",
        "\n",
        "dh=0.42\n",
        "rmin=0\n",
        "rmax=400\n",
        "tmin = 0\n",
        "tmax = 20\n",
        "social_d = 2\n",
        "pop =10000\n",
        "\n",
        "itr = 10\n",
        "\n",
        "\n",
        "\n",
        "\n",
        "def dist(l1,l2):\n",
        "  return np.sqrt(l1[0]**2 + l2[0]**2 - 2*l1[0]*l2[0]*np.cos(l1[1] - l2[1]))\n",
        "\n",
        "\n",
        "def dist2(l1,l2):\n",
        "  return distance.euclidean(l1, l2)\n",
        "\n",
        "def ci_calc(mtext,lsample):\n",
        "  sigma = np.std(lsample)\n",
        "  mean = np.mean(lsample)\n",
        "  z= 1.96 #for CI = 95%\n",
        "  error = z * (sigma/np.sqrt(len(lsample)))\n",
        "  print(mtext,mean, \"±\" , error )\n",
        "\n",
        "def iter_graph(title,llsample):\n",
        "  plt.figure()\n",
        "  ltemp = []\n",
        "  for ii in range(len(llsample)):\n",
        "    ltemp.append(np.mean(llsample[0:ii+1]))\n",
        "  axes = plt.gca()\n",
        "  #axes.set_ylim([0,pop])\n",
        "  plt.title(title)\n",
        "  plt.plot(np.arange(itr)+1,np.array(ltemp))\n",
        "\n",
        "def polar_graph(human,l_r,l_t):\n",
        "  l_r = np.array(l_r)\n",
        "  l_t = np.array(l_t)\n",
        "  area = dh*5\n",
        "  colors = l_r\n",
        "  fig = plt.figure(figsize=(20, 20), dpi=96)\n",
        "  ax = fig.add_subplot(projection='polar')\n",
        "  c = ax.scatter(l_t, l_r , s=area, cmap='hsv', alpha=1)\n",
        "  ax.set_yticklabels([])\n",
        "  ax.set_xticklabels([])\n",
        "  #ax.grid(False)"
      ],
      "execution_count": null,
      "outputs": []
    },
    {
      "cell_type": "code",
      "metadata": {
        "id": "3Aso-nXmo3Ba",
        "colab": {
          "base_uri": "https://localhost:8080/"
        },
        "outputId": "e49354fc-660b-4119-f58f-f84d85ca40c0"
      },
      "source": [
        " l_c_t = []\n",
        " l_p_t = []\n",
        " l_max = []\n",
        "\n",
        " avg_contacts_pop_l = []\n",
        " min_contacts_pop_l = []\n",
        " max_contacts_pop_l = []\n",
        "\n",
        " for k in range(itr):\n",
        "  n_err=0\n",
        "  l = list()\n",
        "  c_total = 0\n",
        "  l_d = []\n",
        "  l.append([r.uniform(rmin,rmax),r.uniform(tmin,tmax)])\n",
        "\n",
        "  l_r = [l[0][0]]\n",
        "  l_t = [l[0][1]]\n",
        "  l_p = []\n",
        "  i=0\n",
        "\n",
        "  while i < pop-1:\n",
        "    new= [r.uniform(rmin,rmax),r.uniform(tmin,tmax)]\n",
        "    c_temp = 0\n",
        "    d_new = []\n",
        "    l_p_temp=[]\n",
        "\n",
        "    for j in range(len(l)):\n",
        "      d = dist2(l[j],new)\n",
        "      if d<dh:\n",
        "        new = []\n",
        "        c_temp = 0\n",
        "        d_new = []\n",
        "        n_err= n_err+1\n",
        "        break\n",
        "      elif (d<social_d):\n",
        "        c_temp = c_temp +1\n",
        "        d_new.append(d)\n",
        "        l_p_temp.append(j)\n",
        "        l_p_temp.append(i)\n",
        "      else:\n",
        "        d_new.append(d)\n",
        "    \n",
        "    if (new):\n",
        "      i+=1\n",
        "      l.append(new)\n",
        "      c_total = c_total + c_temp\n",
        "      l_d.extend(d_new)\n",
        "      l_p.extend(l_p_temp)\n",
        "      l_r.append(new[0])\n",
        "      l_t.append(new[1])\n",
        "      \n",
        "  l_c_t.append(c_total)\n",
        "  l_p_t.append(len(set(l_p)))\n",
        "  if (l_p):\n",
        "    l_max.append(collections.Counter(l_p).most_common(1)[0][1])\n",
        "    id_contact = collections.Counter(l_p).most_common()\n",
        "    contacts = [x[1] for x in id_contact]\n",
        "    if len(contacts)<pop:\n",
        "      contacts.append(0)\n",
        "    avg_contacts_pop_l.append(np.sum(contacts)/pop)\n",
        "    min_contacts_pop_l.append(np.min(contacts))\n",
        "    max_contacts_pop_l.append(np.max(contacts))\n",
        "  else:\n",
        "    l_max.append(-1)\n",
        "    avg_contacts_pop_l.append(0)\n",
        "    min_contacts_pop_l.append(0)\n",
        "    max_contacts_pop_l.append(0)\n",
        "print(n_err)\n",
        "print(np.average(np.array(l_c_t)))\n",
        "print(np.average(np.array(l_p_t)))\n",
        "print(np.average(np.array(l_d)))\n",
        "print(\"l_max_avg:\", np.average(np.array(l_max)))\n",
        "print(len(l_d))\n",
        "print(len(set(l_p)))\n",
        "print(\"Average contacts less than 2 m:\", np.average(np.array(l_c_t)))\n",
        "print(\"Average unique individuals at leas than 2 m\", np.average(np.array(l_p_t)))\n",
        "print(\"Average max contacts:\", np.average(np.array(l_max)))\n",
        "\n",
        "## Reporting 0.95 CI for populaion parameters based on samples\n",
        "print(\"Nmumber of people in population: \",pop)\n",
        "print(\"Number of experiment trials: \", len(l_p_t))\n",
        "ci_calc(\"Avegrage unique contats: \",l_p_t)\n",
        "ci_calc(\"Averag individual contacts: \",avg_contacts_pop_l)\n",
        "ci_calc(\"Minimum individual contacts: \",min_contacts_pop_l)\n",
        "ci_calc(\"Maximum individual contacts:: \",max_contacts_pop_l)"
      ],
      "execution_count": null,
      "outputs": [
        {
          "output_type": "stream",
          "text": [
            "5525\n",
            "72022.0\n",
            "9999.0\n",
            "133.80948079465327\n",
            "l_max_avg: 27.8\n",
            "49995000\n",
            "9999\n",
            "Average contacts less than 2 m: 72022.0\n",
            "Average unique individuals at leas than 2 m 9999.0\n",
            "Average max contacts: 27.8\n",
            "Nmumber of people in population:  10000\n",
            "Number of experiment trials:  10\n",
            "Avegrage unique contats:  9999.0 ± 0.0\n",
            "Averag individual contacts:  14.404399999999999 ± 0.018131769210973227\n",
            "Minimum individual contacts:  0.0 ± 0.0\n",
            "Maximum individual contacts::  27.8 ± 0.8677289899502032\n"
          ],
          "name": "stdout"
        }
      ]
    },
    {
      "cell_type": "code",
      "metadata": {
        "colab": {
          "base_uri": "https://localhost:8080/",
          "height": 286
        },
        "id": "ppbW6-za8jUk",
        "outputId": "cdcd3e60-4834-44e1-8eee-d2d71558156f"
      },
      "source": [
        "axes = plt.gca()\n",
        "axes.set_ylim([0,pop])\n",
        "plt.plot(np.arange(itr)+1,np.array(l_p_t))"
      ],
      "execution_count": null,
      "outputs": [
        {
          "output_type": "execute_result",
          "data": {
            "text/plain": [
              "[<matplotlib.lines.Line2D at 0x7f5f20c72a90>]"
            ]
          },
          "metadata": {
            "tags": []
          },
          "execution_count": 4
        },
        {
          "output_type": "display_data",
          "data": {
            "image/png": "[encoded data removed]",
            "text/plain": [
              "<Figure size 432x288 with 1 Axes>"
            ]
          },
          "metadata": {
            "tags": [],
            "needs_background": "light"
          }
        }
      ]
    },
    {
      "cell_type": "code",
      "metadata": {
        "colab": {
          "base_uri": "https://localhost:8080/",
          "height": 286
        },
        "id": "pNBIuFGXwA_g",
        "outputId": "03726d48-92c8-4771-c7f9-35ed2bb44885"
      },
      "source": [
        "axes = plt.gca()\n",
        "axes.set_ylim([0,pop])"
      ],
      "execution_count": null,
      "outputs": [
        {
          "output_type": "execute_result",
          "data": {
            "text/plain": [
              "(0.0, 100.0)"
            ]
          },
          "metadata": {
            "tags": []
          },
          "execution_count": 5
        },
        {
          "output_type": "display_data",
          "data": {
            "image/png": "[encoded data removed]",
            "text/plain": [
              "<Figure size 432x288 with 1 Axes>"
            ]
          },
          "metadata": {
            "tags": [],
            "needs_background": "light"
          }
        }
      ]
    },
    {
      "cell_type": "code",
      "metadata": {
        "colab": {
          "base_uri": "https://localhost:8080/"
        },
        "id": "eirUCijXwA34",
        "outputId": "5c57e737-8879-492d-b99b-b07a26724091"
      },
      "source": [
        "np.arange(10)"
      ],
      "execution_count": null,
      "outputs": [
        {
          "output_type": "execute_result",
          "data": {
            "text/plain": [
              "array([0, 1, 2, 3, 4, 5, 6, 7, 8, 9])"
            ]
          },
          "metadata": {
            "tags": []
          },
          "execution_count": 6
        }
      ]
    },
    {
      "cell_type": "code",
      "metadata": {
        "colab": {
          "base_uri": "https://localhost:8080/"
        },
        "id": "1DydLgJygV8X",
        "outputId": "39b862b3-ceda-4bbd-df9d-e692760efafe"
      },
      "source": [
        "set(l_p)"
      ],
      "execution_count": null,
      "outputs": [
        {
          "output_type": "execute_result",
          "data": {
            "text/plain": [
              "{6, 11, 13, 15, 16, 21, 22, 30, 41, 46, 51, 58, 62, 64, 65, 69, 70, 85, 91}"
            ]
          },
          "metadata": {
            "tags": []
          },
          "execution_count": 7
        }
      ]
    },
    {
      "cell_type": "code",
      "metadata": {
        "colab": {
          "base_uri": "https://localhost:8080/",
          "height": 286
        },
        "id": "FB_Vbq3u9LD4",
        "outputId": "8f9be06d-efab-427d-bc6c-ba1f0123b046"
      },
      "source": [
        "l_r = np.array(l_r)\n",
        "l_t = np.array(l_t)\n",
        "\n",
        "area = .125\n",
        "colors = l_r\n",
        "ax = plt.gca()\n",
        "ax.set_xlim([rmin,rmax])\n",
        "ax.set_ylim([tmin,tmax])\n",
        "\n",
        "ax.scatter(l_r, l_t, color = 'blue', s= 0.15)"
      ],
      "execution_count": null,
      "outputs": [
        {
          "output_type": "execute_result",
          "data": {
            "text/plain": [
              "<matplotlib.collections.PathCollection at 0x7f5f205da550>"
            ]
          },
          "metadata": {
            "tags": []
          },
          "execution_count": 9
        },
        {
          "output_type": "display_data",
          "data": {
            "image/png": "[encoded data removed]",
            "text/plain": [
              "<Figure size 432x288 with 1 Axes>"
            ]
          },
          "metadata": {
            "tags": [],
            "needs_background": "light"
          }
        }
      ]
    },
    {
      "cell_type": "code",
      "metadata": {
        "colab": {
          "base_uri": "https://localhost:8080/"
        },
        "id": "WLOVCEbZQynz",
        "outputId": "51413e45-35bb-45c0-8366-b8e78f0950a9"
      },
      "source": [
        "sum(np.array(l_d)<.5)"
      ],
      "execution_count": null,
      "outputs": [
        {
          "output_type": "execute_result",
          "data": {
            "text/plain": [
              "42"
            ]
          },
          "metadata": {
            "tags": []
          },
          "execution_count": 253
        }
      ]
    },
    {
      "cell_type": "code",
      "metadata": {
        "colab": {
          "base_uri": "https://localhost:8080/"
        },
        "id": "caeOjfRBQZ8j",
        "outputId": "3e7956c1-c03a-4fc7-c7fd-64074bd20523"
      },
      "source": [
        "np.average(np.array(l_d))"
      ],
      "execution_count": null,
      "outputs": [
        {
          "output_type": "execute_result",
          "data": {
            "text/plain": [
              "59.7258538662112"
            ]
          },
          "metadata": {
            "tags": []
          },
          "execution_count": 285
        }
      ]
    },
    {
      "cell_type": "code",
      "metadata": {
        "id": "qOUlCJAMPZAm"
      },
      "source": [
        ""
      ],
      "execution_count": null,
      "outputs": []
    },
    {
      "cell_type": "code",
      "metadata": {
        "colab": {
          "base_uri": "https://localhost:8080/"
        },
        "id": "81U40-ZPDPSG",
        "outputId": "a194e57d-1491-47c5-b88e-06d3962d9f0d"
      },
      "source": [
        "c_total"
      ],
      "execution_count": null,
      "outputs": [
        {
          "output_type": "execute_result",
          "data": {
            "text/plain": [
              "7"
            ]
          },
          "metadata": {
            "tags": []
          },
          "execution_count": 199
        }
      ]
    },
    {
      "cell_type": "code",
      "metadata": {
        "id": "8-mH1PLn8V9W"
      },
      "source": [
        "new = []\n",
        "\n",
        "if new:\n",
        "  print('h')"
      ],
      "execution_count": null,
      "outputs": []
    },
    {
      "cell_type": "code",
      "metadata": {
        "colab": {
          "base_uri": "https://localhost:8080/"
        },
        "id": "5oHuD4UcB3_m",
        "outputId": "c3601ca9-8577-469b-d854-e553c0a4089c"
      },
      "source": [
        "l=[]\n",
        "l.append([r.uniform(rmin,rmax),r.uniform(tmin,tmax)])\n",
        "l_r = [l[0][0]]\n",
        "l_t = [l[0][1]]\n",
        "l"
      ],
      "execution_count": null,
      "outputs": [
        {
          "output_type": "execute_result",
          "data": {
            "text/plain": [
              "[[27.413111706998386, 2.7610534888368714]]"
            ]
          },
          "metadata": {
            "tags": []
          },
          "execution_count": 150
        }
      ]
    },
    {
      "cell_type": "code",
      "metadata": {
        "colab": {
          "base_uri": "https://localhost:8080/"
        },
        "id": "sANqlFgnCajG",
        "outputId": "67197afe-3b83-4745-feb5-6c2bd7048fe2"
      },
      "source": [
        "l_t"
      ],
      "execution_count": null,
      "outputs": [
        {
          "output_type": "execute_result",
          "data": {
            "text/plain": [
              "[126.75672867962243]"
            ]
          },
          "metadata": {
            "tags": []
          },
          "execution_count": 149
        }
      ]
    },
    {
      "cell_type": "code",
      "metadata": {
        "colab": {
          "base_uri": "https://localhost:8080/"
        },
        "id": "6IKwjCRNonCi",
        "outputId": "2cf91190-9334-4e3e-8af1-c3c676d48832"
      },
      "source": [
        "\n",
        "length = 1\n",
        "\n",
        "coord_r = np.random.rand(length)*10\n",
        "coord_alpha = np.random.rand(length)*np.pi\n"
      ],
      "execution_count": null,
      "outputs": [
        {
          "output_type": "stream",
          "text": [
            "[[0.]]\n"
          ],
          "name": "stdout"
        }
      ]
    },
    {
      "cell_type": "code",
      "metadata": {
        "colab": {
          "base_uri": "https://localhost:8080/"
        },
        "id": "Cj4W_aeTxRfu",
        "outputId": "e768aa7f-b21e-4642-8828-7095c1a17a79"
      },
      "source": [
        "a = [1,2,3]\n",
        "b = [4,5]\n",
        "b.append(a)\n",
        "b"
      ],
      "execution_count": null,
      "outputs": [
        {
          "output_type": "execute_result",
          "data": {
            "text/plain": [
              "[4, 5, [1, 2, 3]]"
            ]
          },
          "metadata": {
            "tags": []
          },
          "execution_count": 59
        }
      ]
    },
    {
      "cell_type": "code",
      "metadata": {
        "id": "7ZrXKmaro-PT"
      },
      "source": [
        "def dist2(r1,r2,t1,t2):\n",
        "  return np.sqrt(r1**2 + r2**2 - 2*r1*r2*np.cos(t1 - t2))"
      ],
      "execution_count": null,
      "outputs": []
    },
    {
      "cell_type": "code",
      "metadata": {
        "colab": {
          "base_uri": "https://localhost:8080/"
        },
        "id": "lCqqptL3qc1F",
        "outputId": "b5c5206c-3cdc-4797-80fb-d45b334ac682"
      },
      "source": [
        "dist([1,0],[1,np.pi/2])"
      ],
      "execution_count": null,
      "outputs": [
        {
          "output_type": "execute_result",
          "data": {
            "text/plain": [
              "1.414213562373095"
            ]
          },
          "metadata": {
            "tags": []
          },
          "execution_count": 49
        }
      ]
    },
    {
      "cell_type": "code",
      "metadata": {
        "colab": {
          "base_uri": "https://localhost:8080/",
          "height": 286
        },
        "id": "7UDXGY29q5JD",
        "outputId": "4eafef72-7965-4dab-9ca2-de6586ecfb5c"
      },
      "source": [
        "import numpy as np\n",
        "import matplotlib.pyplot as plt\n",
        "\n",
        "\n",
        "# Compute areas and colors\n",
        "N = 5\n",
        "l_r = np.array([10,60,40])\n",
        "l_t = np.array([0,np.pi/2,np.pi])\n",
        "area = 10\n",
        "colors = l_r*100\n",
        "\n",
        "fig = plt.figure()\n",
        "ax = fig.add_subplot(projection='polar')\n",
        "c = ax.scatter(l_t, l_r, c=colors, s=area, cmap='hsv', alpha=0.5)"
      ],
      "execution_count": null,
      "outputs": [
        {
          "output_type": "display_data",
          "data": {
            "image/png": "[encoded data removed]",
            "text/plain": [
              "<Figure size 432x288 with 1 Axes>"
            ]
          },
          "metadata": {
            "tags": [],
            "needs_background": "light"
          }
        }
      ]
    },
    {
      "cell_type": "code",
      "metadata": {
        "colab": {
          "base_uri": "https://localhost:8080/"
        },
        "id": "tts-e-5G_BFy",
        "outputId": "bf9ffe01-0d2c-4021-8e37-a18b600fa910"
      },
      "source": [
        "r "
      ],
      "execution_count": null,
      "outputs": [
        {
          "output_type": "execute_result",
          "data": {
            "text/plain": [
              "[10, 60, 40]"
            ]
          },
          "metadata": {
            "tags": []
          },
          "execution_count": 128
        }
      ]
    },
    {
      "cell_type": "code",
      "metadata": {
        "id": "KskUj4mb_Qy5"
      },
      "source": [
        ""
      ],
      "execution_count": null,
      "outputs": []
    }
  ]
}