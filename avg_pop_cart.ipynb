{
  "nbformat": 4,
  "nbformat_minor": 0,
  "metadata": {
    "colab": {
      "name": "avg_pop_cart.ipynb",
      "provenance": [],
      "include_colab_link": true
    },
    "kernelspec": {
      "name": "python3",
      "display_name": "Python 3"
    },
    "language_info": {
      "name": "python"
    }
  },
  "cells": [
    {
      "cell_type": "markdown",
      "metadata": {
        "id": "view-in-github",
        "colab_type": "text"
      },
      "source": [
        "<a href=\"https://colab.research.google.com/github/mtofighi/Test/blob/master/avg_pop_cart.ipynb\" target=\"_parent\"><img src=\"https://colab.research.google.com/assets/colab-badge.svg\" alt=\"Open In Colab\"/></a>"
      ]
    },
    {
      "cell_type": "code",
      "metadata": {
        "id": "ozy6-sdEm0EZ"
      },
      "source": [
        "import numpy as np\n",
        "import random as r\n",
        "import collections\n",
        "import matplotlib.pyplot as plt\n",
        "from scipy.spatial import distance\n",
        "\n",
        "\n",
        "dh=0.42\n",
        "rmin=0\n",
        "rmax=400\n",
        "tmin = 0\n",
        "tmax = 20\n",
        "social_d = 2\n",
        "pop =10000\n",
        "\n",
        "itr = 1\n",
        "\n",
        "def dist(l1,l2):\n",
        "  return np.sqrt(l1[0]**2 + l2[0]**2 - 2*l1[0]*l2[0]*np.cos(l1[1] - l2[1]))\n",
        "\n",
        "\n",
        "def dist2(l1,l2):\n",
        "  return distance.euclidean(l1, l2)"
      ],
      "execution_count": null,
      "outputs": []
    },
    {
      "cell_type": "code",
      "metadata": {
        "id": "3Aso-nXmo3Ba",
        "colab": {
          "base_uri": "https://localhost:8080/"
        },
        "outputId": "d66d5342-a6e1-4600-b5ac-25ade7c78abf"
      },
      "source": [
        " l_c_t = []\n",
        " l_p_t = []\n",
        " l_max = []\n",
        " for k in range(itr):\n",
        "  n_err=0\n",
        "  l = list()\n",
        "  c_total = 0\n",
        "  l_d = []\n",
        "  l.append([r.uniform(rmin,rmax),r.uniform(tmin,tmax)])\n",
        "\n",
        "  l_r = [l[0][0]]\n",
        "  l_t = [l[0][1]]\n",
        "  l_p = []\n",
        "  i=0\n",
        "\n",
        "  while i < pop-1:\n",
        "    new= [r.uniform(rmin,rmax),r.uniform(tmin,tmax)]\n",
        "    c_temp = 0\n",
        "    d_new = []\n",
        "    l_p_temp=[]\n",
        "\n",
        "    for j in range(len(l)):\n",
        "      d = dist2(l[j],new)\n",
        "      if d<dh:\n",
        "        new = []\n",
        "        c_temp = 0\n",
        "        d_new = []\n",
        "        n_err= n_err+1\n",
        "        break\n",
        "      elif (d<social_d):\n",
        "        c_temp = c_temp +1\n",
        "        d_new.append(d)\n",
        "        l_p_temp.append(j)\n",
        "        l_p_temp.append(i)\n",
        "      else:\n",
        "        d_new.append(d)\n",
        "    \n",
        "    if (new):\n",
        "      i+=1\n",
        "      l.append(new)\n",
        "      c_total = c_total + c_temp\n",
        "      l_d.extend(d_new)\n",
        "      l_p.extend(l_p_temp)\n",
        "      l_r.append(new[0])\n",
        "      l_t.append(new[1])\n",
        "      \n",
        "  l_c_t.append(c_total)\n",
        "  l_p_t.append(len(set(l_p)))\n",
        "  if (l_p):\n",
        "    l_max.append(collections.Counter(l_p).most_common(1)[0][1])\n",
        "  else:\n",
        "    l_max.append(-1)\n",
        "print(n_err)\n",
        "print(np.average(np.array(l_c_t)))\n",
        "print(np.average(np.array(l_p_t)))\n",
        "print(np.average(np.array(l_d)))\n",
        "print(\"l_max_avg:\", np.average(np.array(l_max)))\n",
        "print(len(l_d))\n",
        "print(len(set(l_p)))\n",
        "print(\"Average contacts less than 2 m:\", np.average(np.array(l_c_t)))\n",
        "print(\"Average unique individuals at leas than 2 m\", np.average(np.array(l_p_t)))\n",
        "print(\"Average max contacts:\", np.average(np.array(l_max)))"
      ],
      "execution_count": null,
      "outputs": [
        {
          "output_type": "stream",
          "text": [
            "5407\n",
            "72358.0\n",
            "9999.0\n",
            "134.52307209719316\n",
            "l_max_avg: 27.0\n",
            "49995000\n",
            "9999\n",
            "Average contacts less than 2 m: 72358.0\n",
            "Average unique individuals at leas than 2 m 9999.0\n",
            "Average max contacts: 27.0\n"
          ],
          "name": "stdout"
        }
      ]
    },
    {
      "cell_type": "code",
      "metadata": {
        "colab": {
          "base_uri": "https://localhost:8080/",
          "height": 286
        },
        "id": "ppbW6-za8jUk",
        "outputId": "80a1eca4-4ab1-4d4a-fcf1-f4f4025d1dd4"
      },
      "source": [
        "axes = plt.gca()\n",
        "axes.set_ylim([0,pop])\n",
        "plt.plot(np.arange(itr)+1,np.array(l_p_t))"
      ],
      "execution_count": null,
      "outputs": [
        {
          "output_type": "execute_result",
          "data": {
            "text/plain": [
              "[<matplotlib.lines.Line2D at 0x7f80314dafd0>]"
            ]
          },
          "metadata": {
            "tags": []
          },
          "execution_count": 3
        },
        {
          "output_type": "display_data",
          "data": {
            "image/png": "[encoded data removed]",
            "text/plain": [
              "<Figure size 432x288 with 1 Axes>"
            ]
          },
          "metadata": {
            "tags": [],
            "needs_background": "light"
          }
        }
      ]
    },
    {
      "cell_type": "code",
      "metadata": {
        "colab": {
          "base_uri": "https://localhost:8080/",
          "height": 286
        },
        "id": "pNBIuFGXwA_g",
        "outputId": "e1ce4efd-38db-44cf-8baf-24bfda072e3c"
      },
      "source": [
        "axes = plt.gca()\n",
        "axes.set_ylim([0,pop])"
      ],
      "execution_count": null,
      "outputs": [
        {
          "output_type": "execute_result",
          "data": {
            "text/plain": [
              "(0.0, 100.0)"
            ]
          },
          "metadata": {
            "tags": []
          },
          "execution_count": 4
        },
        {
          "output_type": "display_data",
          "data": {
            "image/png": "[encoded data removed]",
            "text/plain": [
              "<Figure size 432x288 with 1 Axes>"
            ]
          },
          "metadata": {
            "tags": [],
            "needs_background": "light"
          }
        }
      ]
    },
    {
      "cell_type": "code",
      "metadata": {
        "colab": {
          "base_uri": "https://localhost:8080/"
        },
        "id": "eirUCijXwA34",
        "outputId": "b45a207d-3567-4587-8e4f-19e89e3735dd"
      },
      "source": [
        "np.arange(10)"
      ],
      "execution_count": null,
      "outputs": [
        {
          "output_type": "execute_result",
          "data": {
            "text/plain": [
              "array([0, 1, 2, 3, 4, 5, 6, 7, 8, 9])"
            ]
          },
          "metadata": {
            "tags": []
          },
          "execution_count": 5
        }
      ]
    },
    {
      "cell_type": "code",
      "metadata": {
        "colab": {
          "base_uri": "https://localhost:8080/"
        },
        "id": "1DydLgJygV8X",
        "outputId": "07c88966-0393-479b-fda6-b2d4bc6db687"
      },
      "source": [
        "set(l_p)"
      ],
      "execution_count": null,
      "outputs": [
        {
          "output_type": "execute_result",
          "data": {
            "text/plain": [
              "{2, 3, 6, 7, 30, 35, 41, 43, 61, 63, 73, 95, 98}"
            ]
          },
          "metadata": {
            "tags": []
          },
          "execution_count": 22
        }
      ]
    },
    {
      "cell_type": "code",
      "metadata": {
        "colab": {
          "base_uri": "https://localhost:8080/",
          "height": 286
        },
        "id": "FB_Vbq3u9LD4",
        "outputId": "04a6aecf-9f1f-4486-a89c-68366171b236"
      },
      "source": [
        "l_r = np.array(l_r)\n",
        "l_t = np.array(l_t)\n",
        "\n",
        "area = .125\n",
        "colors = l_r\n",
        "ax = plt.gca()\n",
        "ax.set_xlim([rmin,rmax])\n",
        "ax.set_ylim([tmin,tmax])\n",
        "\n",
        "ax.scatter(l_r, l_t, color = 'blue', s= 0.15)"
      ],
      "execution_count": null,
      "outputs": [
        {
          "output_type": "execute_result",
          "data": {
            "text/plain": [
              "<matplotlib.collections.PathCollection at 0x7f8030f54050>"
            ]
          },
          "metadata": {
            "tags": []
          },
          "execution_count": 14
        },
        {
          "output_type": "display_data",
          "data": {
            "image/png": "[encoded data removed]",
            "text/plain": [
              "<Figure size 432x288 with 1 Axes>"
            ]
          },
          "metadata": {
            "tags": [],
            "needs_background": "light"
          }
        }
      ]
    },
    {
      "cell_type": "code",
      "metadata": {
        "colab": {
          "base_uri": "https://localhost:8080/"
        },
        "id": "WLOVCEbZQynz",
        "outputId": "51413e45-35bb-45c0-8366-b8e78f0950a9"
      },
      "source": [
        "sum(np.array(l_d)<.5)"
      ],
      "execution_count": null,
      "outputs": [
        {
          "output_type": "execute_result",
          "data": {
            "text/plain": [
              "42"
            ]
          },
          "metadata": {
            "tags": []
          },
          "execution_count": 253
        }
      ]
    },
    {
      "cell_type": "code",
      "metadata": {
        "colab": {
          "base_uri": "https://localhost:8080/"
        },
        "id": "caeOjfRBQZ8j",
        "outputId": "3e7956c1-c03a-4fc7-c7fd-64074bd20523"
      },
      "source": [
        "np.average(np.array(l_d))"
      ],
      "execution_count": null,
      "outputs": [
        {
          "output_type": "execute_result",
          "data": {
            "text/plain": [
              "59.7258538662112"
            ]
          },
          "metadata": {
            "tags": []
          },
          "execution_count": 285
        }
      ]
    },
    {
      "cell_type": "code",
      "metadata": {
        "id": "qOUlCJAMPZAm"
      },
      "source": [
        ""
      ],
      "execution_count": null,
      "outputs": []
    },
    {
      "cell_type": "code",
      "metadata": {
        "colab": {
          "base_uri": "https://localhost:8080/"
        },
        "id": "81U40-ZPDPSG",
        "outputId": "a194e57d-1491-47c5-b88e-06d3962d9f0d"
      },
      "source": [
        "c_total"
      ],
      "execution_count": null,
      "outputs": [
        {
          "output_type": "execute_result",
          "data": {
            "text/plain": [
              "7"
            ]
          },
          "metadata": {
            "tags": []
          },
          "execution_count": 199
        }
      ]
    },
    {
      "cell_type": "code",
      "metadata": {
        "id": "8-mH1PLn8V9W"
      },
      "source": [
        "new = []\n",
        "\n",
        "if new:\n",
        "  print('h')"
      ],
      "execution_count": null,
      "outputs": []
    },
    {
      "cell_type": "code",
      "metadata": {
        "colab": {
          "base_uri": "https://localhost:8080/"
        },
        "id": "5oHuD4UcB3_m",
        "outputId": "c3601ca9-8577-469b-d854-e553c0a4089c"
      },
      "source": [
        "l=[]\n",
        "l.append([r.uniform(rmin,rmax),r.uniform(tmin,tmax)])\n",
        "l_r = [l[0][0]]\n",
        "l_t = [l[0][1]]\n",
        "l"
      ],
      "execution_count": null,
      "outputs": [
        {
          "output_type": "execute_result",
          "data": {
            "text/plain": [
              "[[27.413111706998386, 2.7610534888368714]]"
            ]
          },
          "metadata": {
            "tags": []
          },
          "execution_count": 150
        }
      ]
    },
    {
      "cell_type": "code",
      "metadata": {
        "colab": {
          "base_uri": "https://localhost:8080/"
        },
        "id": "sANqlFgnCajG",
        "outputId": "67197afe-3b83-4745-feb5-6c2bd7048fe2"
      },
      "source": [
        "l_t"
      ],
      "execution_count": null,
      "outputs": [
        {
          "output_type": "execute_result",
          "data": {
            "text/plain": [
              "[126.75672867962243]"
            ]
          },
          "metadata": {
            "tags": []
          },
          "execution_count": 149
        }
      ]
    },
    {
      "cell_type": "code",
      "metadata": {
        "colab": {
          "base_uri": "https://localhost:8080/"
        },
        "id": "6IKwjCRNonCi",
        "outputId": "2cf91190-9334-4e3e-8af1-c3c676d48832"
      },
      "source": [
        "\n",
        "length = 1\n",
        "\n",
        "coord_r = np.random.rand(length)*10\n",
        "coord_alpha = np.random.rand(length)*np.pi\n"
      ],
      "execution_count": null,
      "outputs": [
        {
          "output_type": "stream",
          "text": [
            "[[0.]]\n"
          ],
          "name": "stdout"
        }
      ]
    },
    {
      "cell_type": "code",
      "metadata": {
        "colab": {
          "base_uri": "https://localhost:8080/"
        },
        "id": "Cj4W_aeTxRfu",
        "outputId": "e768aa7f-b21e-4642-8828-7095c1a17a79"
      },
      "source": [
        "a = [1,2,3]\n",
        "b = [4,5]\n",
        "b.append(a)\n",
        "b"
      ],
      "execution_count": null,
      "outputs": [
        {
          "output_type": "execute_result",
          "data": {
            "text/plain": [
              "[4, 5, [1, 2, 3]]"
            ]
          },
          "metadata": {
            "tags": []
          },
          "execution_count": 59
        }
      ]
    },
    {
      "cell_type": "code",
      "metadata": {
        "id": "7ZrXKmaro-PT"
      },
      "source": [
        "def dist2(r1,r2,t1,t2):\n",
        "  return np.sqrt(r1**2 + r2**2 - 2*r1*r2*np.cos(t1 - t2))"
      ],
      "execution_count": null,
      "outputs": []
    },
    {
      "cell_type": "code",
      "metadata": {
        "colab": {
          "base_uri": "https://localhost:8080/"
        },
        "id": "lCqqptL3qc1F",
        "outputId": "b5c5206c-3cdc-4797-80fb-d45b334ac682"
      },
      "source": [
        "dist([1,0],[1,np.pi/2])"
      ],
      "execution_count": null,
      "outputs": [
        {
          "output_type": "execute_result",
          "data": {
            "text/plain": [
              "1.414213562373095"
            ]
          },
          "metadata": {
            "tags": []
          },
          "execution_count": 49
        }
      ]
    },
    {
      "cell_type": "code",
      "metadata": {
        "colab": {
          "base_uri": "https://localhost:8080/",
          "height": 286
        },
        "id": "7UDXGY29q5JD",
        "outputId": "4eafef72-7965-4dab-9ca2-de6586ecfb5c"
      },
      "source": [
        "import numpy as np\n",
        "import matplotlib.pyplot as plt\n",
        "\n",
        "\n",
        "# Compute areas and colors\n",
        "N = 5\n",
        "l_r = np.array([10,60,40])\n",
        "l_t = np.array([0,np.pi/2,np.pi])\n",
        "area = 10\n",
        "colors = l_r*100\n",
        "\n",
        "fig = plt.figure()\n",
        "ax = fig.add_subplot(projection='polar')\n",
        "c = ax.scatter(l_t, l_r, c=colors, s=area, cmap='hsv', alpha=0.5)"
      ],
      "execution_count": null,
      "outputs": [
        {
          "output_type": "display_data",
          "data": {
            "image/png": "[encoded data removed]",
            "text/plain": [
              "<Figure size 432x288 with 1 Axes>"
            ]
          },
          "metadata": {
            "tags": [],
            "needs_background": "light"
          }
        }
      ]
    },
    {
      "cell_type": "code",
      "metadata": {
        "colab": {
          "base_uri": "https://localhost:8080/"
        },
        "id": "tts-e-5G_BFy",
        "outputId": "bf9ffe01-0d2c-4021-8e37-a18b600fa910"
      },
      "source": [
        "r "
      ],
      "execution_count": null,
      "outputs": [
        {
          "output_type": "execute_result",
          "data": {
            "text/plain": [
              "[10, 60, 40]"
            ]
          },
          "metadata": {
            "tags": []
          },
          "execution_count": 128
        }
      ]
    },
    {
      "cell_type": "code",
      "metadata": {
        "id": "KskUj4mb_Qy5"
      },
      "source": [
        ""
      ],
      "execution_count": null,
      "outputs": []
    }
  ]
}